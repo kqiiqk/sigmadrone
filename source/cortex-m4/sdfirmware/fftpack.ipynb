{
 "metadata": {
  "name": ""
 },
 "nbformat": 3,
 "nbformat_minor": 0,
 "worksheets": [
  {
   "cells": [
    {
     "cell_type": "code",
     "collapsed": false,
     "input": [
      "import numpy as np\n",
      "from scipy.fftpack import fft, ifft\n",
      "x = np.array([1.0, 2.0, 1.0, -1.0, 1.5])\n",
      "y = fft(x)\n",
      "y\n",
      "\n",
      "\n",
      "yinv = ifft(y)\n",
      "yinv"
     ],
     "language": "python",
     "metadata": {},
     "outputs": [
      {
       "metadata": {},
       "output_type": "pyout",
       "prompt_number": 101,
       "text": [
        "array([ 1.0+0.j,  2.0+0.j,  1.0+0.j, -1.0+0.j,  1.5+0.j])"
       ]
      }
     ],
     "prompt_number": 101
    },
    {
     "cell_type": "code",
     "collapsed": false,
     "input": [
      "y"
     ],
     "language": "python",
     "metadata": {},
     "outputs": [
      {
       "metadata": {},
       "output_type": "pyout",
       "prompt_number": 102,
       "text": [
        "array([ 4.50000000+0.j        ,  2.08155948-1.65109876j,\n",
        "       -1.83155948+1.60822041j, -1.83155948-1.60822041j,\n",
        "        2.08155948+1.65109876j])"
       ]
      }
     ],
     "prompt_number": 102
    },
    {
     "cell_type": "code",
     "collapsed": false,
     "input": [
      "zarray = []\n",
      "for line in open(\"/home/mstoilov/samples-motors.txt\"):\n",
      "    z = float(line.rstrip(\"\\n\").split(\" \")[2])\n",
      "    zarray.append(z)\n",
      "# Number of samplepoints\n",
      "N=len(zarray)\n",
      "N=24\n",
      "# sample spacing\n",
      "T = 1.0 / 800.0\n",
      "n = np.linspace(0, N, N)\n",
      "y = zarray[0:N]\n",
      "x = np.linspace(0.0, N*T, N)\n",
      "yf = fft(y)\n",
      "xf = np.linspace(0.0, 1.0/(2.0*T), N/2, True)\n",
      "\n",
      "import matplotlib.pyplot as plt\n",
      "from scipy.signal import blackman\n",
      "w = blackman(N)\n",
      "ywf = fft(y*w)\n",
      "\n",
      "nzero = 4;\n",
      "for i in range(nzero, N-nzero):\n",
      "    yf[i] = 0;\n",
      "iy = ifft(yf)\n",
      "#plt.plot(xf, 2.0/N*abs(ywf[0:N/2]))\n",
      "#plt.plot(xf, 2.0/N*abs(yf[0:N/2]))\n",
      "plt.plot(n, y)\n",
      "plt.plot(n, iy)\n",
      "plt.ylim(-1.5, 2.5)\n",
      "plt.grid()\n",
      "plt.show()"
     ],
     "language": "python",
     "metadata": {},
     "outputs": [],
     "prompt_number": 110
    },
    {
     "cell_type": "code",
     "collapsed": false,
     "input": [
      "ifft?"
     ],
     "language": "python",
     "metadata": {},
     "outputs": [],
     "prompt_number": 103
    },
    {
     "cell_type": "code",
     "collapsed": false,
     "input": [],
     "language": "python",
     "metadata": {},
     "outputs": []
    }
   ],
   "metadata": {}
  }
 ]
}