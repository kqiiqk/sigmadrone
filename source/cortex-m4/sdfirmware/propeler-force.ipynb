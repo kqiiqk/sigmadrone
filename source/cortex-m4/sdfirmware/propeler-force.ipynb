{
 "metadata": {
  "name": ""
 },
 "nbformat": 3,
 "nbformat_minor": 0,
 "worksheets": [
  {
   "cells": [
    {
     "cell_type": "code",
     "collapsed": false,
     "input": [
      "import numpy as np\n",
      "import matplotlib.pyplot as plt\n",
      "\n",
      "Ro = 1.225 # kg/m3\n",
      "\n",
      "def Fv(A, v):\n",
      "    return (0.5 * Ro * A * v**2)\n",
      "\n",
      "def DV(A, v, dF):\n",
      "    F = Fv(A, v)\n",
      "    c = v**2 - (F + dF) * 2 / (Ro * A)\n",
      "    b = 2 * v\n",
      "    a = 1\n",
      "    Det = (b**2 - 4*a*c)\n",
      "    x1 = 0.5*(-b + np.sqrt(Det))/a\n",
      "    x2 = 0.5*(-b - np.sqrt(Det))/a\n",
      "    if (np.abs(x1) < np.abs(x2)):\n",
      "        return x1\n",
      "    return x2\n",
      "\n",
      "\n",
      "Ro = 1.225 # kg/m3\n",
      "R = 0.12 # m propeler radius\n",
      "A = np.pi * R**2\n",
      "Ve = x\n",
      "F = 0.5 * Ro * A * Ve**2\n",
      "Fp = Fv(A, Ve)\n",
      "\n",
      "x = np.linspace(0, 8, 500)\n",
      "#plt.plot(Ve/8, Fp)\n",
      "\n",
      "x = np.linspace(0, 1.2, 500)\n",
      "\n",
      "DeltaV = []\n",
      "for n in x:\n",
      "    DeltaV.append(DV(A, 7.0, n))\n",
      "plt.plot(x, DeltaV)\n",
      "\n",
      "DeltaV = []\n",
      "for n in x:\n",
      "    DeltaV.append(DV(A, 5.0, n))\n",
      "plt.plot(x, DeltaV)\n",
      "\n",
      "DeltaV = []\n",
      "for n in x:\n",
      "    DeltaV.append(DV(A, 3.0, n))\n",
      "plt.plot(x, DeltaV)\n",
      "\n",
      "DeltaV = []\n",
      "for n in x:\n",
      "    DeltaV.append(DV(A, 1.0, n))\n",
      "plt.plot(x, DeltaV)\n",
      "\n",
      "\n",
      "plt.title('A simple chirp')\n",
      "plt.show()\n",
      "\n",
      "Vin = 6.0\n",
      "dV = 0.100\n",
      "(Vin + DV(A, Vin, -dV), Vin + DV(A, Vin, dV))"
     ],
     "language": "python",
     "metadata": {},
     "outputs": [
      {
       "metadata": {},
       "output_type": "pyout",
       "prompt_number": 54,
       "text": [
        "(5.6913130624077812, 6.2935646199643145)"
       ]
      }
     ],
     "prompt_number": 54
    },
    {
     "cell_type": "code",
     "collapsed": false,
     "input": [],
     "language": "python",
     "metadata": {},
     "outputs": []
    }
   ],
   "metadata": {}
  }
 ]
}